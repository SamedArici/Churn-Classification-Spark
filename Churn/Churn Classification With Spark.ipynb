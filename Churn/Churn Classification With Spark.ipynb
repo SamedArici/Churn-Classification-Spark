{
 "cells": [
  {
   "cell_type": "markdown",
   "id": "8d7bd522",
   "metadata": {},
   "source": [
    "<div class=\"alert alert-block alert-warning\">\n",
    "\n",
    "<h1>Churn</h1>\n",
    "    \n",
    "<a href=\"https://www.kaggle.com/datasets/shrutimechlearn/churn-modelling\">Kaggle Link</a>\n",
    "\n",
    "    \n",
    "<h2>About Dataset</h2>\n",
    "<p>Content</p>\n",
    "<blockquote>\n",
    "This data set contains details of a bank's customers and the target variable is a binary variable reflecting the fact whether the customer left the bank (closed his account) or he continues to be a customer.\n",
    "</blockquote>\n",
    "</div>\n",
    "\n",
    "<hr>\n",
    "\n",
    "<div class=\"alert alert-block alert-info\">\n",
    "    <h2>Columns</h2>\n",
    "    <p><strong>CustomerID:</strong> Customer ID.</p>\n",
    "    <p><strong>Surname:</strong> Customer's last name</p>\n",
    "    <p><strong>CreditScore:</strong> Credit score of the customer.</p>\n",
    "    <p><strong>Geography:</strong> The country from which the customer belongs.</p>\n",
    "    <p><strong>Gender:</strong> Male or Female.</p>\n",
    "    <p><strong>Age:</strong> Age of the customer.</p>\n",
    "    <p><strong>Tenure:</strong> Number of years for which the customer has been with the bank.</p>\n",
    "    <p><strong>Balance:</strong> Balance of the customer.</p>\n",
    "    <p><strong>NumOfProducts:</strong> Number of bank products the customer is utilising.</p>\n",
    "    <p><strong>HasCrCard:</strong>  Binary Flag for whether the customer holds a credit card with the bank or not.</p>\n",
    "    <p><strong>IsActiveMember:</strong> Binary Flag for whether the customer is an active member with the bank or not.</p>\n",
    "    <p><strong>EstimatedSalary:</strong> Estimated salary of the customer in Dollars.</p>\n",
    "    <p><strong>Exited:</strong> Binary flag 1 if the customer closed account with bank and 0 if the customer is retained.</p>\n",
    "</div>"
   ]
  },
  {
   "cell_type": "markdown",
   "id": "fce66d50",
   "metadata": {},
   "source": [
    "## Importing Libraries"
   ]
  },
  {
   "cell_type": "code",
   "execution_count": 1,
   "id": "06c7d8d8",
   "metadata": {},
   "outputs": [],
   "source": [
    "import findspark\n",
    "findspark.init(\"C:\\spark\")"
   ]
  },
  {
   "cell_type": "code",
   "execution_count": 2,
   "id": "f7e48d95",
   "metadata": {},
   "outputs": [],
   "source": [
    "import pyspark\n",
    "from pyspark.sql import SparkSession\n",
    "from pyspark.conf import SparkConf\n",
    "from pyspark import SparkContext"
   ]
  },
  {
   "cell_type": "code",
   "execution_count": 3,
   "id": "92e8bef1",
   "metadata": {},
   "outputs": [],
   "source": [
    "import pandas as pd\n",
    "import matplotlib.pyplot as plt\n",
    "%matplotlib inline"
   ]
  },
  {
   "cell_type": "code",
   "execution_count": 4,
   "id": "0ffb2be4",
   "metadata": {},
   "outputs": [],
   "source": [
    "from pyspark.sql.functions import explode, array, lit\n",
    "\n",
    "from pyspark.ml.feature import StringIndexer\n",
    "\n",
    "from pyspark.ml.feature import VectorAssembler\n",
    "\n",
    "from pyspark.ml.classification import GBTClassifier"
   ]
  },
  {
   "cell_type": "code",
   "execution_count": 5,
   "id": "f05f4fad",
   "metadata": {},
   "outputs": [],
   "source": [
    "from pyspark.ml.evaluation import BinaryClassificationEvaluator\n",
    "from pyspark.ml.tuning import ParamGridBuilder, CrossValidator"
   ]
  },
  {
   "cell_type": "markdown",
   "id": "30fb79a1",
   "metadata": {},
   "source": [
    "## Create Spark"
   ]
  },
  {
   "cell_type": "code",
   "execution_count": 6,
   "id": "394579c9",
   "metadata": {},
   "outputs": [],
   "source": [
    "spark = SparkSession.builder.master(\"local\").appName(\"churn\").getOrCreate()\n",
    "sc = spark.sparkContext"
   ]
  },
  {
   "cell_type": "code",
   "execution_count": 7,
   "id": "08214c48",
   "metadata": {},
   "outputs": [
    {
     "data": {
      "text/html": [
       "\n",
       "        <div>\n",
       "            <p><b>SparkContext</b></p>\n",
       "\n",
       "            <p><a href=\"http://MSI:4040\">Spark UI</a></p>\n",
       "\n",
       "            <dl>\n",
       "              <dt>Version</dt>\n",
       "                <dd><code>v3.3.2</code></dd>\n",
       "              <dt>Master</dt>\n",
       "                <dd><code>local</code></dd>\n",
       "              <dt>AppName</dt>\n",
       "                <dd><code>churn</code></dd>\n",
       "            </dl>\n",
       "        </div>\n",
       "        "
      ],
      "text/plain": [
       "<SparkContext master=local appName=churn>"
      ]
     },
     "execution_count": 7,
     "metadata": {},
     "output_type": "execute_result"
    }
   ],
   "source": [
    "sc"
   ]
  },
  {
   "cell_type": "markdown",
   "id": "4a731408",
   "metadata": {},
   "source": [
    "## Importing Dataset"
   ]
  },
  {
   "cell_type": "code",
   "execution_count": 8,
   "id": "3347cdfa",
   "metadata": {},
   "outputs": [
    {
     "data": {
      "text/plain": [
       "DataFrame[RowNumber: int, CustomerId: int, Surname: string, CreditScore: int, Geography: string, Gender: string, Age: int, Tenure: int, Balance: double, NumOfProducts: int, HasCrCard: int, IsActiveMember: int, EstimatedSalary: double, Exited: int]"
      ]
     },
     "execution_count": 8,
     "metadata": {},
     "output_type": "execute_result"
    }
   ],
   "source": [
    "df = spark.read.csv(\"Churn_Modelling.csv\",header=True,inferSchema=True)\n",
    "df.cache()"
   ]
  },
  {
   "cell_type": "code",
   "execution_count": 9,
   "id": "52d0be7b",
   "metadata": {},
   "outputs": [
    {
     "name": "stdout",
     "output_type": "stream",
     "text": [
      "Total NaN values : 0\n"
     ]
    }
   ],
   "source": [
    "print(f\"Total NaN values : {df.count()-df.dropna().count()}\")"
   ]
  },
  {
   "cell_type": "code",
   "execution_count": 10,
   "id": "bc652b9e",
   "metadata": {},
   "outputs": [
    {
     "data": {
      "text/plain": [
       "['RowNumber',\n",
       " 'CustomerId',\n",
       " 'Surname',\n",
       " 'CreditScore',\n",
       " 'Geography',\n",
       " 'Gender',\n",
       " 'Age',\n",
       " 'Tenure',\n",
       " 'Balance',\n",
       " 'NumOfProducts',\n",
       " 'HasCrCard',\n",
       " 'IsActiveMember',\n",
       " 'EstimatedSalary',\n",
       " 'Exited']"
      ]
     },
     "execution_count": 10,
     "metadata": {},
     "output_type": "execute_result"
    }
   ],
   "source": [
    "df.columns"
   ]
  },
  {
   "cell_type": "markdown",
   "id": "a964b55e",
   "metadata": {},
   "source": [
    "- Dropping 'RowNumber' and 'Surname' columns"
   ]
  },
  {
   "cell_type": "code",
   "execution_count": 11,
   "id": "0e20caa6",
   "metadata": {},
   "outputs": [],
   "source": [
    "df = df.drop('RowNumber','Surname')"
   ]
  },
  {
   "cell_type": "code",
   "execution_count": 12,
   "id": "cec8cba6",
   "metadata": {},
   "outputs": [
    {
     "name": "stdout",
     "output_type": "stream",
     "text": [
      "root\n",
      " |-- CustomerId: integer (nullable = true)\n",
      " |-- CreditScore: integer (nullable = true)\n",
      " |-- Geography: string (nullable = true)\n",
      " |-- Gender: string (nullable = true)\n",
      " |-- Age: integer (nullable = true)\n",
      " |-- Tenure: integer (nullable = true)\n",
      " |-- Balance: double (nullable = true)\n",
      " |-- NumOfProducts: integer (nullable = true)\n",
      " |-- HasCrCard: integer (nullable = true)\n",
      " |-- IsActiveMember: integer (nullable = true)\n",
      " |-- EstimatedSalary: double (nullable = true)\n",
      " |-- Exited: integer (nullable = true)\n",
      "\n"
     ]
    }
   ],
   "source": [
    "df.printSchema()"
   ]
  },
  {
   "cell_type": "markdown",
   "id": "bbf6a52b",
   "metadata": {},
   "source": [
    "- Converting colum names to lower"
   ]
  },
  {
   "cell_type": "code",
   "execution_count": 13,
   "id": "39eb8cbf",
   "metadata": {},
   "outputs": [],
   "source": [
    "df = df.toDF(*[c.lower() for c in df.columns])"
   ]
  },
  {
   "cell_type": "markdown",
   "id": "fc190f5a",
   "metadata": {},
   "source": [
    "- Checking if there is not unique customer id"
   ]
  },
  {
   "cell_type": "code",
   "execution_count": 14,
   "id": "53686fba",
   "metadata": {},
   "outputs": [
    {
     "name": "stdout",
     "output_type": "stream",
     "text": [
      "+----------+-----+\n",
      "|customerid|count|\n",
      "+----------+-----+\n",
      "|  15632264|    1|\n",
      "|  15613854|    1|\n",
      "|  15662403|    1|\n",
      "|  15672012|    1|\n",
      "|  15724563|    1|\n",
      "+----------+-----+\n",
      "only showing top 5 rows\n",
      "\n"
     ]
    }
   ],
   "source": [
    "df.groupBy(\"customerid\").count().sort(\"count\",ascending = False).show(5)"
   ]
  },
  {
   "cell_type": "code",
   "execution_count": 15,
   "id": "10280906",
   "metadata": {},
   "outputs": [],
   "source": [
    "df = df.drop(\"customerid\")"
   ]
  },
  {
   "cell_type": "markdown",
   "id": "55a9ff24",
   "metadata": {},
   "source": [
    "- How many customers exited, how many customers not exited"
   ]
  },
  {
   "cell_type": "code",
   "execution_count": 16,
   "id": "b86c4447",
   "metadata": {},
   "outputs": [
    {
     "name": "stdout",
     "output_type": "stream",
     "text": [
      "+------+-----+\n",
      "|exited|count|\n",
      "+------+-----+\n",
      "|     1| 2037|\n",
      "|     0| 7963|\n",
      "+------+-----+\n",
      "\n"
     ]
    }
   ],
   "source": [
    "df.groupBy(\"exited\").count().show()"
   ]
  },
  {
   "cell_type": "code",
   "execution_count": 17,
   "id": "98f8e736",
   "metadata": {},
   "outputs": [
    {
     "data": {
      "image/png": "[encoded data removed]",
      "text/plain": [
       "<Figure size 500x300 with 1 Axes>"
      ]
     },
     "metadata": {},
     "output_type": "display_data"
    }
   ],
   "source": [
    "plt.figure(figsize = (5,3))\n",
    "df.groupBy(\"exited\").count().toPandas()['count'].plot.pie(\n",
    "    autopct = \"%.1f%%\",\n",
    "    labels = ['Exited','Not Exited'],\n",
    "    title = \"The Ratio of Exited & Not Exited Customers\");"
   ]
  },
  {
   "cell_type": "markdown",
   "id": "96911d89",
   "metadata": {},
   "source": [
    "- Unique country names and counts"
   ]
  },
  {
   "cell_type": "code",
   "execution_count": 18,
   "id": "7c647477",
   "metadata": {},
   "outputs": [
    {
     "name": "stdout",
     "output_type": "stream",
     "text": [
      "+---------+\n",
      "|geography|\n",
      "+---------+\n",
      "|  Germany|\n",
      "|   France|\n",
      "|    Spain|\n",
      "+---------+\n",
      "\n"
     ]
    }
   ],
   "source": [
    "df.select(\"geography\").drop_duplicates().show()"
   ]
  },
  {
   "cell_type": "code",
   "execution_count": 19,
   "id": "a46912c7",
   "metadata": {
    "scrolled": true
   },
   "outputs": [
    {
     "name": "stdout",
     "output_type": "stream",
     "text": [
      "+---------+-----+\n",
      "|geography|count|\n",
      "+---------+-----+\n",
      "|  Germany| 2509|\n",
      "|   France| 5014|\n",
      "|    Spain| 2477|\n",
      "+---------+-----+\n",
      "\n"
     ]
    }
   ],
   "source": [
    "df.groupBy(\"geography\").count().show()"
   ]
  },
  {
   "cell_type": "code",
   "execution_count": 20,
   "id": "92c35da6",
   "metadata": {},
   "outputs": [
    {
     "name": "stdout",
     "output_type": "stream",
     "text": [
      "+---------+-------------------+\n",
      "|geography|        avg(exited)|\n",
      "+---------+-------------------+\n",
      "|  Germany|0.32443204463929853|\n",
      "|   France|0.16154766653370561|\n",
      "|    Spain| 0.1667339523617279|\n",
      "+---------+-------------------+\n",
      "\n"
     ]
    }
   ],
   "source": [
    "df.groupBy(\"geography\").agg({'exited':\"mean\"}).show()"
   ]
  },
  {
   "cell_type": "code",
   "execution_count": 21,
   "id": "4bbf0d56",
   "metadata": {},
   "outputs": [
    {
     "name": "stdout",
     "output_type": "stream",
     "text": [
      "+-----------+---------+------+---+------+---------+-------------+---------+--------------+---------------+------+\n",
      "|creditscore|geography|gender|age|tenure|  balance|numofproducts|hascrcard|isactivemember|estimatedsalary|exited|\n",
      "+-----------+---------+------+---+------+---------+-------------+---------+--------------+---------------+------+\n",
      "|        619|   France|Female| 42|     2|      0.0|            1|        1|             1|      101348.88|     1|\n",
      "|        608|    Spain|Female| 41|     1| 83807.86|            1|        0|             1|      112542.58|     0|\n",
      "|        502|   France|Female| 42|     8| 159660.8|            3|        1|             0|      113931.57|     1|\n",
      "|        699|   France|Female| 39|     1|      0.0|            2|        0|             0|       93826.63|     0|\n",
      "|        850|    Spain|Female| 43|     2|125510.82|            1|        1|             1|        79084.1|     0|\n",
      "+-----------+---------+------+---+------+---------+-------------+---------+--------------+---------------+------+\n",
      "only showing top 5 rows\n",
      "\n"
     ]
    }
   ],
   "source": [
    "df.show(5)"
   ]
  },
  {
   "cell_type": "markdown",
   "id": "474a638a",
   "metadata": {},
   "source": [
    "## Data Preporcessing"
   ]
  },
  {
   "cell_type": "code",
   "execution_count": 22,
   "id": "f75c52ac",
   "metadata": {},
   "outputs": [
    {
     "name": "stdout",
     "output_type": "stream",
     "text": [
      "+------+-----+\n",
      "|exited|count|\n",
      "+------+-----+\n",
      "|     1| 2037|\n",
      "|     0| 7963|\n",
      "+------+-----+\n",
      "\n"
     ]
    }
   ],
   "source": [
    "df.groupBy(\"exited\").count().show() #ubbalanced labels"
   ]
  },
  {
   "cell_type": "code",
   "execution_count": 23,
   "id": "8254e56c",
   "metadata": {},
   "outputs": [],
   "source": [
    "minor_df = df.filter(df.exited == 1)\n",
    "major_df = df.filter(df.exited == 0)"
   ]
  },
  {
   "cell_type": "code",
   "execution_count": 24,
   "id": "cbf9d188",
   "metadata": {},
   "outputs": [],
   "source": [
    "a = range(3)\n",
    "# duplicate the minority rows\n",
    "oversampled_df = minor_df.withColumn(\"dummy\", explode(array([lit(x) for x in a]))).drop('dummy')\n",
    "# combine both oversampled minority rows and previous majority rows \n",
    "balanced_df = major_df.unionAll(oversampled_df)"
   ]
  },
  {
   "cell_type": "code",
   "execution_count": 25,
   "id": "6c9ddf5a",
   "metadata": {},
   "outputs": [
    {
     "name": "stdout",
     "output_type": "stream",
     "text": [
      "+------+-----+\n",
      "|exited|count|\n",
      "+------+-----+\n",
      "|     0| 7963|\n",
      "|     1| 6111|\n",
      "+------+-----+\n",
      "\n"
     ]
    }
   ],
   "source": [
    "balanced_df.groupBy(\"exited\").count().show()"
   ]
  },
  {
   "cell_type": "code",
   "execution_count": 26,
   "id": "1672f5d0",
   "metadata": {},
   "outputs": [],
   "source": [
    "string_indexer = StringIndexer(inputCol=\"exited\",outputCol=\"label\") "
   ]
  },
  {
   "cell_type": "code",
   "execution_count": 27,
   "id": "c0b180c1",
   "metadata": {},
   "outputs": [],
   "source": [
    "indexed = string_indexer.fit(balanced_df).transform(balanced_df)"
   ]
  },
  {
   "cell_type": "code",
   "execution_count": 28,
   "id": "8dd93762",
   "metadata": {},
   "outputs": [
    {
     "data": {
      "text/plain": [
       "[('creditscore', 'int'),\n",
       " ('geography', 'string'),\n",
       " ('gender', 'string'),\n",
       " ('age', 'int'),\n",
       " ('tenure', 'int'),\n",
       " ('balance', 'double'),\n",
       " ('numofproducts', 'int'),\n",
       " ('hascrcard', 'int'),\n",
       " ('isactivemember', 'int'),\n",
       " ('estimatedsalary', 'double'),\n",
       " ('exited', 'int'),\n",
       " ('label', 'double')]"
      ]
     },
     "execution_count": 28,
     "metadata": {},
     "output_type": "execute_result"
    }
   ],
   "source": [
    "indexed.dtypes"
   ]
  },
  {
   "cell_type": "code",
   "execution_count": 29,
   "id": "5bfad5b3",
   "metadata": {},
   "outputs": [],
   "source": [
    "balanced_df = indexed.withColumn(\"label\",indexed[\"label\"].cast(\"integer\"))"
   ]
  },
  {
   "cell_type": "code",
   "execution_count": 30,
   "id": "69cb6715",
   "metadata": {},
   "outputs": [
    {
     "data": {
      "text/plain": [
       "[('creditscore', 'int'),\n",
       " ('geography', 'string'),\n",
       " ('gender', 'string'),\n",
       " ('age', 'int'),\n",
       " ('tenure', 'int'),\n",
       " ('balance', 'double'),\n",
       " ('numofproducts', 'int'),\n",
       " ('hascrcard', 'int'),\n",
       " ('isactivemember', 'int'),\n",
       " ('estimatedsalary', 'double'),\n",
       " ('exited', 'int'),\n",
       " ('label', 'int')]"
      ]
     },
     "execution_count": 30,
     "metadata": {},
     "output_type": "execute_result"
    }
   ],
   "source": [
    "balanced_df.dtypes"
   ]
  },
  {
   "cell_type": "code",
   "execution_count": 31,
   "id": "c5d51c50",
   "metadata": {
    "scrolled": true
   },
   "outputs": [
    {
     "name": "stdout",
     "output_type": "stream",
     "text": [
      "+-----------+---------+------+---+------+---------+-------------+---------+--------------+---------------+------+-----+\n",
      "|creditscore|geography|gender|age|tenure|  balance|numofproducts|hascrcard|isactivemember|estimatedsalary|exited|label|\n",
      "+-----------+---------+------+---+------+---------+-------------+---------+--------------+---------------+------+-----+\n",
      "|        608|    Spain|Female| 41|     1| 83807.86|            1|        0|             1|      112542.58|     0|    0|\n",
      "|        699|   France|Female| 39|     1|      0.0|            2|        0|             0|       93826.63|     0|    0|\n",
      "|        850|    Spain|Female| 43|     2|125510.82|            1|        1|             1|        79084.1|     0|    0|\n",
      "|        822|   France|  Male| 50|     7|      0.0|            2|        1|             1|        10062.8|     0|    0|\n",
      "|        501|   France|  Male| 44|     4|142051.07|            2|        0|             1|        74940.5|     0|    0|\n",
      "+-----------+---------+------+---+------+---------+-------------+---------+--------------+---------------+------+-----+\n",
      "only showing top 5 rows\n",
      "\n"
     ]
    }
   ],
   "source": [
    "balanced_df.show(5)"
   ]
  },
  {
   "cell_type": "markdown",
   "id": "f08360b6",
   "metadata": {},
   "source": [
    "## Creating Independent and Dependent Variables"
   ]
  },
  {
   "cell_type": "code",
   "execution_count": 32,
   "id": "c6c018bc",
   "metadata": {},
   "outputs": [],
   "source": [
    "bag = ['creditscore','age','tenure','balance','numofproducts','hascrcard','isactivemember','estimatedsalary']"
   ]
  },
  {
   "cell_type": "code",
   "execution_count": 33,
   "id": "4f8177e4",
   "metadata": {},
   "outputs": [],
   "source": [
    "vectorAssembler = VectorAssembler(inputCols = bag,outputCol='features')"
   ]
  },
  {
   "cell_type": "code",
   "execution_count": 34,
   "id": "a6fe86b9",
   "metadata": {},
   "outputs": [],
   "source": [
    "va_df =vectorAssembler.transform(balanced_df)"
   ]
  },
  {
   "cell_type": "code",
   "execution_count": 35,
   "id": "701d47ab",
   "metadata": {},
   "outputs": [],
   "source": [
    "final_df = va_df.select(\"features\",\"label\")"
   ]
  },
  {
   "cell_type": "code",
   "execution_count": 36,
   "id": "bf23fd1a",
   "metadata": {},
   "outputs": [
    {
     "name": "stdout",
     "output_type": "stream",
     "text": [
      "+--------------------+-----+\n",
      "|            features|label|\n",
      "+--------------------+-----+\n",
      "|[608.0,41.0,1.0,8...|    0|\n",
      "|[699.0,39.0,1.0,0...|    0|\n",
      "|[850.0,43.0,2.0,1...|    0|\n",
      "|[822.0,50.0,7.0,0...|    0|\n",
      "|[501.0,44.0,4.0,1...|    0|\n",
      "+--------------------+-----+\n",
      "only showing top 5 rows\n",
      "\n"
     ]
    }
   ],
   "source": [
    "final_df.show(5)"
   ]
  },
  {
   "cell_type": "markdown",
   "id": "18d43a02",
   "metadata": {},
   "source": [
    "## Creating Train and Test Sets"
   ]
  },
  {
   "cell_type": "code",
   "execution_count": 37,
   "id": "4b7edaaa",
   "metadata": {},
   "outputs": [],
   "source": [
    "splits = final_df.randomSplit([0.7,0.3])"
   ]
  },
  {
   "cell_type": "code",
   "execution_count": 38,
   "id": "246f1b05",
   "metadata": {},
   "outputs": [],
   "source": [
    "train_df = splits[0]\n",
    "test_df = splits[1]"
   ]
  },
  {
   "cell_type": "code",
   "execution_count": 39,
   "id": "95bc3fe3",
   "metadata": {},
   "outputs": [
    {
     "name": "stdout",
     "output_type": "stream",
     "text": [
      "+--------------------+-----+\n",
      "|            features|label|\n",
      "+--------------------+-----+\n",
      "|(8,[0,1,4,7],[538...|    0|\n",
      "|(8,[0,1,4,7],[585...|    0|\n",
      "|(8,[0,1,4,7],[619...|    0|\n",
      "+--------------------+-----+\n",
      "only showing top 3 rows\n",
      "\n"
     ]
    }
   ],
   "source": [
    "train_df.show(3)"
   ]
  },
  {
   "cell_type": "code",
   "execution_count": 40,
   "id": "c13077c6",
   "metadata": {},
   "outputs": [
    {
     "name": "stdout",
     "output_type": "stream",
     "text": [
      "+--------------------+-----+\n",
      "|            features|label|\n",
      "+--------------------+-----+\n",
      "|(8,[0,1,4,7],[502...|    0|\n",
      "|(8,[0,1,4,7],[575...|    0|\n",
      "|(8,[0,1,4,7],[631...|    0|\n",
      "+--------------------+-----+\n",
      "only showing top 3 rows\n",
      "\n"
     ]
    }
   ],
   "source": [
    "test_df.show(3)"
   ]
  },
  {
   "cell_type": "markdown",
   "id": "a0ae7bc2",
   "metadata": {},
   "source": [
    "## Classification"
   ]
  },
  {
   "cell_type": "code",
   "execution_count": 41,
   "id": "b2894180",
   "metadata": {},
   "outputs": [],
   "source": [
    "gbm = GBTClassifier(maxIter = 10,featuresCol=\"features\",labelCol=\"label\")\n",
    "gbm_model = gbm.fit(train_df)"
   ]
  },
  {
   "cell_type": "code",
   "execution_count": 42,
   "id": "ad2cbfd2",
   "metadata": {},
   "outputs": [],
   "source": [
    "y_pred = gbm_model.transform(test_df)"
   ]
  },
  {
   "cell_type": "code",
   "execution_count": 43,
   "id": "00f957d4",
   "metadata": {},
   "outputs": [
    {
     "name": "stdout",
     "output_type": "stream",
     "text": [
      "Accuracy : 0.78\n"
     ]
    }
   ],
   "source": [
    "ac = y_pred.select(\"label\",\"prediction\")\n",
    "print(\"Accuracy :\",round(ac.filter(ac.label == ac.prediction).count() / ac.count(),2))"
   ]
  },
  {
   "cell_type": "markdown",
   "id": "38bcb18a",
   "metadata": {},
   "source": [
    "### Model Tuning"
   ]
  },
  {
   "cell_type": "code",
   "execution_count": 44,
   "id": "66012725",
   "metadata": {},
   "outputs": [],
   "source": [
    "evaluator = BinaryClassificationEvaluator()"
   ]
  },
  {
   "cell_type": "code",
   "execution_count": 45,
   "id": "6dcd89b5",
   "metadata": {},
   "outputs": [],
   "source": [
    "param_grid = (\n",
    "    ParamGridBuilder()\n",
    "    .addGrid(gbm.maxDepth,[2,4,6])\n",
    "    .addGrid(gbm.maxIter,[10,20])\n",
    "    .build()\n",
    ")\n",
    "\n",
    "cv = CrossValidator(\n",
    "    estimator=gbm,estimatorParamMaps=param_grid,evaluator=evaluator,numFolds=2\n",
    ")"
   ]
  },
  {
   "cell_type": "code",
   "execution_count": 46,
   "id": "07aaa4fc",
   "metadata": {},
   "outputs": [],
   "source": [
    "cv_model = cv.fit(train_df)"
   ]
  },
  {
   "cell_type": "code",
   "execution_count": 47,
   "id": "39bd173e",
   "metadata": {},
   "outputs": [],
   "source": [
    "y_pred = cv_model.transform(test_df)"
   ]
  },
  {
   "cell_type": "code",
   "execution_count": 48,
   "id": "daa895af",
   "metadata": {},
   "outputs": [
    {
     "name": "stdout",
     "output_type": "stream",
     "text": [
      "Accuracy (after model tuning): 0.78\n"
     ]
    }
   ],
   "source": [
    "ac = y_pred.select(\"label\",\"prediction\")\n",
    "print(\"Accuracy (after model tuning):\",round(ac.filter(ac.label == ac.prediction).count() / ac.count(),2))"
   ]
  },
  {
   "cell_type": "markdown",
   "id": "c0ea7015",
   "metadata": {},
   "source": [
    "## Multiple Customer Forecasts"
   ]
  },
  {
   "cell_type": "code",
   "execution_count": 49,
   "id": "716f1b17",
   "metadata": {},
   "outputs": [
    {
     "name": "stdout",
     "output_type": "stream",
     "text": [
      "________________________________________________Data________________________________________________\n",
      "\n",
      "+----------+-----------+---+------+---------+-------------+---------+--------------+---------------+\n",
      "|  fullname|creditscore|age|tenure|  balance|numofproducts|hascrcard|isactivemember|estimatedsalary|\n",
      "+----------+-----------+---+------+---------+-------------+---------+--------------+---------------+\n",
      "|Customer 1|        653| 58|     1|132602.88|            1|        1|             0|        5097.67|\n",
      "|Customer 2|        608| 41|     1| 83807.86|            1|        0|             1|      112542.58|\n",
      "+----------+-----------+---+------+---------+-------------+---------+--------------+---------------+\n",
      "\n"
     ]
    }
   ],
   "source": [
    "data = {\n",
    "    'fullname':[\"Customer 1\",\"Customer 2\"],\n",
    "    'creditscore':[653, 608],\n",
    "    'age':[58, 41],\n",
    "    'tenure':[1, 1],\n",
    "    'balance':[132602.88, 83807.86],\n",
    "    'numofproducts':[1, 1],\n",
    "    'hascrcard':[1, 0],\n",
    "    'isactivemember':[0, 1],\n",
    "    'estimatedsalary':[5097.67, 112542.58]\n",
    "}\n",
    "\n",
    "prediction_df = spark.createDataFrame(pd.DataFrame.from_dict(data))\n",
    "\n",
    "print(\"Data\".center(100,'_'),end = '\\n\\n')\n",
    "prediction_df.show()"
   ]
  },
  {
   "cell_type": "code",
   "execution_count": 50,
   "id": "c6a52be8",
   "metadata": {},
   "outputs": [
    {
     "name": "stdout",
     "output_type": "stream",
     "text": [
      "______Predictions______\n",
      "\n",
      "+----------+----------+\n",
      "|  fullname|prediction|\n",
      "+----------+----------+\n",
      "|Customer 1|       1.0|\n",
      "|Customer 2|       0.0|\n",
      "+----------+----------+\n",
      "\n"
     ]
    }
   ],
   "source": [
    "prediction_vec = vectorAssembler.transform(prediction_df)\n",
    "result = cv_model.transform(prediction_vec)\n",
    "\n",
    "print(\"Predictions\".center(23,'_'),end = '\\n\\n')\n",
    "result.select('fullname',\"prediction\").show()"
   ]
  },
  {
   "cell_type": "markdown",
   "id": "440b62af",
   "metadata": {},
   "source": [
    "## Stop Spark"
   ]
  },
  {
   "cell_type": "code",
   "execution_count": 51,
   "id": "88a8dae7",
   "metadata": {},
   "outputs": [
    {
     "name": "stdout",
     "output_type": "stream",
     "text": [
      "Press 'e' to stop Spark: e\n"
     ]
    }
   ],
   "source": [
    "if input(\"Press 'e' to stop Spark: \") == 'e':\n",
    "    sc.stop()"
   ]
  }
 ],
 "metadata": {
  "kernelspec": {
   "display_name": "Python 3 (ipykernel)",
   "language": "python",
   "name": "python3"
  },
  "language_info": {
   "codemirror_mode": {
    "name": "ipython",
    "version": 3
   },
   "file_extension": ".py",
   "mimetype": "text/x-python",
   "name": "python",
   "nbconvert_exporter": "python",
   "pygments_lexer": "ipython3",
   "version": "3.9.12"
  }
 },
 "nbformat": 4,
 "nbformat_minor": 5
}
